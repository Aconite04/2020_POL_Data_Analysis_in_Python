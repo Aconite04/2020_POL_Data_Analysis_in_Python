{
 "cells": [
  {
   "cell_type": "code",
   "execution_count": 4,
   "metadata": {},
   "outputs": [
    {
     "name": "stdout",
     "output_type": "stream",
     "text": [
      "YES\n"
     ]
    }
   ],
   "source": [
    "X = 6.5\n",
    "if X >= 6 or X < 8:  \n",
    "   print(\"YES\")\n",
    "else:\n",
    "   print(\"NO\")"
   ]
  },
  {
   "cell_type": "code",
   "execution_count": null,
   "metadata": {},
   "outputs": [],
   "source": [
    "[6, :) (:,7]"
   ]
  },
  {
   "cell_type": "code",
   "execution_count": 8,
   "metadata": {},
   "outputs": [
    {
     "name": "stdout",
     "output_type": "stream",
     "text": [
      "24\n"
     ]
    }
   ],
   "source": [
    "c = 0\n",
    "listN = [9, 12, 15, 18]\n",
    "for i in listN:\n",
    "    for j in range(1, 7):\n",
    "        c += 1\n",
    "print(c)"
   ]
  },
  {
   "cell_type": "code",
   "execution_count": 9,
   "metadata": {},
   "outputs": [
    {
     "name": "stdout",
     "output_type": "stream",
     "text": [
      "31\n"
     ]
    }
   ],
   "source": [
    "probl = open(r'numbers.txt')\n",
    "problem = probl.read().rstrip()\n",
    "problem_list = problem.split(\"\\n\")\n",
    "\n",
    "frequency = {}\n",
    "for word in problem_list:\n",
    "    count = frequency.get(word,0)\n",
    "    frequency[word] = count + 1\n",
    "\n",
    "n=[]\n",
    "for i in frequency.values():\n",
    "    if i>2:\n",
    "        n.append(i)\n",
    "letter = len(n)\n",
    "print(letter)"
   ]
  },
  {
   "cell_type": "code",
   "execution_count": 10,
   "metadata": {},
   "outputs": [
    {
     "name": "stdout",
     "output_type": "stream",
     "text": [
      "22\n"
     ]
    }
   ],
   "source": [
    "import pandas as pd\n",
    "data = pd.read_csv('goods.csv')\n",
    "data['Цена'] = data['Цена'].str.replace(' ','')\n",
    "data['Цена'] = pd.to_numeric(data['Цена'])\n",
    "data['Кол-во в заказе'] = pd.to_numeric(data['Кол-во в заказе'])\n",
    "data['рез'] = data['Цена'] * data['Кол-во в заказе']\n",
    "c = 0\n",
    "lst = list(data['рез'])\n",
    "\n",
    "for i in lst:\n",
    "    if i > 10000:\n",
    "        c+=1\n",
    "print(c)"
   ]
  },
  {
   "cell_type": "code",
   "execution_count": 11,
   "metadata": {},
   "outputs": [
    {
     "name": "stdout",
     "output_type": "stream",
     "text": [
      "31\n"
     ]
    }
   ],
   "source": [
    "with open(r'numbers.txt') as n:\n",
    "    b = n.readlines()\n",
    "b\n",
    "nums = dict()\n",
    "for num in b:\n",
    "    if num not in nums.keys():\n",
    "        nums[num] = 1\n",
    "    else:\n",
    "        nums[num] += 1\n",
    "c = list(nums.values())\n",
    "ii = 0\n",
    "for i in c:\n",
    "    if i >= 2:\n",
    "        ii += 1\n",
    "print(ii)"
   ]
  },
  {
   "cell_type": "code",
   "execution_count": null,
   "metadata": {},
   "outputs": [],
   "source": []
  }
 ],
 "metadata": {
  "kernelspec": {
   "display_name": "Python 3",
   "language": "python",
   "name": "python3"
  },
  "language_info": {
   "codemirror_mode": {
    "name": "ipython",
    "version": 3
   },
   "file_extension": ".py",
   "mimetype": "text/x-python",
   "name": "python",
   "nbconvert_exporter": "python",
   "pygments_lexer": "ipython3",
   "version": "3.6.5"
  }
 },
 "nbformat": 4,
 "nbformat_minor": 2
}
